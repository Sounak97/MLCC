{
  "nbformat": 4,
  "nbformat_minor": 0,
  "metadata": {
    "colab": {
      "name": "Untitled0.ipynb",
      "version": "0.3.2",
      "provenance": [],
      "include_colab_link": true
    },
    "kernelspec": {
      "name": "python3",
      "display_name": "Python 3"
    }
  },
  "cells": [
    {
      "cell_type": "markdown",
      "metadata": {
        "id": "view-in-github",
        "colab_type": "text"
      },
      "source": [
        "[View in Colaboratory](https://colab.research.google.com/github/Sounak97/MLCC/blob/master/Assgn2_task1(Sounak_CU).ipynb)"
      ]
    },
    {
      "metadata": {
        "id": "Qn4GMQ9MZ5qg",
        "colab_type": "code",
        "colab": {
          "base_uri": "https://localhost:8080/",
          "height": 67
        },
        "outputId": "84c59b66-479c-40e4-f521-175094fa10bb"
      },
      "cell_type": "code",
      "source": [
        "dummy_list=[1,2,3,4,5]#task 1\n",
        "print(dummy_list)#task 2\n",
        "dummy_list.reverse()\n",
        "print(dummy_list)#task 3\n",
        "\n",
        "dummy_list_2 = [2, 200, 16, 4, 1, 0, 9.45, 45.67, 90, 12.01, 12.02]\n",
        "dummy_list=dummy_list + dummy_list_2\n",
        "print(dummy_list) #task 4\n",
        "dummy_list.reverse()\n",
        "dummy_dict=[]"
      ],
      "execution_count": 5,
      "outputs": [
        {
          "output_type": "stream",
          "text": [
            "[1, 2, 3, 4, 5]\n",
            "[5, 4, 3, 2, 1]\n",
            "[5, 4, 3, 2, 1, 2, 200, 16, 4, 1, 0, 9.45, 45.67, 90, 12.01, 12.02]\n"
          ],
          "name": "stdout"
        }
      ]
    }
  ]
}